{
 "cells": [
  {
   "cell_type": "markdown",
   "id": "493604fd",
   "metadata": {},
   "source": [
    "# IMDb Scraper\n",
    "\n",
    "This notebook is meant for testing / understanding the packages installed for this application.\n",
    "\n",
    "To run code snippets from this notebook, it is highly suggested you create a virtual environment and change the notebook's kernel to the venv's.\n",
    "\n",
    "### Setup\n",
    "\n",
    "1. In root directory of project, create virtual environment. This command initializes a ./venv folder\n",
    "```\n",
    "python -m venv venv\n",
    "```\n",
    "2. Activate venv\n",
    "```\n",
    "./venv/Scripts/activate\n",
    "```\n",
    "3. Install all dependencies\n",
    "```\n",
    "pip install -r ./requirements.txt\n",
    "```\n",
    "4. Install kernel for virtual environment\n",
    "```\n",
    "ipython kernel install --user --name=venv\n",
    "```\n",
    "5. Change the notebook's kernel to that of your virtual environment. Kernel -> Change Kernel -> venv\n",
    "\n",
    "### Imports"
   ]
  },
  {
   "cell_type": "code",
   "execution_count": 10,
   "id": "51092a26",
   "metadata": {},
   "outputs": [],
   "source": [
    "import dotenv\n",
    "import os\n",
    "import sys\n",
    "\n",
    "module_path = os.path.abspath(os.path.join('.'))\n",
    "if module_path not in sys.path:\n",
    "    sys.path.append(module_path)\n",
    "\n",
    "_ = dotenv.load_dotenv()"
   ]
  },
  {
   "cell_type": "markdown",
   "id": "3901c9ea",
   "metadata": {},
   "source": [
    "## SQLAlchemy"
   ]
  },
  {
   "cell_type": "code",
   "execution_count": 8,
   "id": "1729bc6a",
   "metadata": {},
   "outputs": [],
   "source": [
    "import sqlalchemy as sa\n",
    "from sqlalchemy.orm import sessionmaker\n",
    "from imdbscraper.moviedb.models import Movie"
   ]
  },
  {
   "cell_type": "markdown",
   "id": "68eefaec",
   "metadata": {},
   "source": [
    "### Test connection and movie retrieval"
   ]
  },
  {
   "cell_type": "code",
   "execution_count": 9,
   "id": "4aa106af",
   "metadata": {},
   "outputs": [
    {
     "name": "stdout",
     "output_type": "stream",
     "text": [
      "<Movie(title=Cradle will Rock, year=2000, director=T.Robbins\n",
      "<Movie(title=Shooting Stars, year=1928, director=Asquith\n",
      "<Movie(title=Pygmalion, year=1938, director=Leslie Howard\n",
      "<Movie(title=French Without Tears, year=1939, director=Asquith\n",
      "<Movie(title=Quiet Wedding, year=1940, director=Asquith\n"
     ]
    }
   ],
   "source": [
    "engine = sa.create_engine(os.getenv(\"MOVIEDB_CONNECTION_STRING\"))\n",
    "Session = sessionmaker(bind=engine)\n",
    "session = Session()\n",
    "\n",
    "for movie in session.query(Movie).limit(5):\n",
    "    print(movie)"
   ]
  }
 ],
 "metadata": {
  "kernelspec": {
   "display_name": "imdbscraper",
   "language": "python",
   "name": "imdbscraper"
  },
  "language_info": {
   "codemirror_mode": {
    "name": "ipython",
    "version": 3
   },
   "file_extension": ".py",
   "mimetype": "text/x-python",
   "name": "python",
   "nbconvert_exporter": "python",
   "pygments_lexer": "ipython3",
   "version": "3.10.1"
  }
 },
 "nbformat": 4,
 "nbformat_minor": 5
}
